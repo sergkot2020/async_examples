{
 "cells": [
  {
   "cell_type": "code",
   "execution_count": null,
   "metadata": {
    "collapsed": true
   },
   "outputs": [],
   "source": [
    "# how use throw method example\n",
    "import asyncio\n",
    "async def f():\n",
    "    try:\n",
    "        while True:\n",
    "            print('I  work')\n",
    "            await asyncio.sleep(0)\n",
    "    except asyncio.CancelledError:\n",
    "        print('I was canceled')\n",
    "\n",
    "\n",
    "coro = f()\n",
    "coro.send(None)\n",
    "coro.send(None)\n",
    "coro.send(None)\n",
    "coro.throw(asyncio.CancelledError)"
   ]
  },
  {
   "cell_type": "code",
   "execution_count": null,
   "outputs": [],
   "source": [
    "# Async context manager\n",
    "async def _get_conn(*args):\n",
    "    pass\n",
    "\n",
    "\n",
    "class Connection:\n",
    "    \"\"\" Async context manager \"\"\"\n",
    "\n",
    "    def __init__(self, host, port):\n",
    "        self.host = host\n",
    "        self.port = port\n",
    "\n",
    "    async def __aenter__(self):\n",
    "        self.conn = await _get_conn(self.host, self.port)\n",
    "        return conn\n",
    "\n",
    "    async def __aexit__(self, exc_type, exc, tb):\n",
    "        await self.conn.close()\n",
    "\n",
    "\n",
    "async with Connection('localhost', 9001) as conn:\n",
    "    pass\n",
    "\n"
   ],
   "metadata": {
    "collapsed": false,
    "pycharm": {
     "name": "#%%\n"
    }
   }
  },
  {
   "cell_type": "code",
   "execution_count": null,
   "outputs": [],
   "source": [
    "\"\"\"\n",
    "async context manager and async generator\n",
    "\"\"\"\n",
    "from contextlib import asynccontextmanager\n",
    "\n",
    "\n",
    "async def download_webpage(url):\n",
    "    pass\n",
    "\n",
    "\n",
    "async def update_stats(url):\n",
    "    pass\n",
    "\n",
    "\n",
    "def process(data):\n",
    "    pass\n",
    "\n",
    "\n",
    "@asynccontextmanager\n",
    "async def web_page(url):\n",
    "    data = await download_webpage(url)\n",
    "    yield data\n",
    "    await update_stats(url)\n",
    "\n",
    "async with web_page('google.com') as data:\n",
    "    process(data)\n"
   ],
   "metadata": {
    "collapsed": false,
    "pycharm": {
     "name": "#%%\n"
    }
   }
  },
  {
   "cell_type": "code",
   "execution_count": null,
   "outputs": [],
   "source": [
    "\"\"\"\n",
    "This is example how run blocking code into async functions.\n",
    "download_webpage and update_stats are blocking\n",
    "\"\"\"\n",
    "@asynccontextmanager\n",
    "async def web_page(url):\n",
    "    loop = asyncio.get_event_loop()\n",
    "    data = await loop.run_in_executor(None, download_webpage, url)\n",
    "    yield data\n",
    "    await loop.run_in_executor(None, update_stats, url)\n",
    "\n",
    "\n",
    "async with web_page('google.com') as data:\n",
    "    process(data)"
   ],
   "metadata": {
    "collapsed": false,
    "pycharm": {
     "name": "#%%\n"
    }
   }
  },
  {
   "cell_type": "code",
   "execution_count": null,
   "outputs": [],
   "source": [
    "\"\"\"\n",
    "Async iterator and async for in\n",
    "\"\"\"\n",
    "import asyncio\n",
    "\n",
    "\n",
    "async def save_text_in_db(v):\n",
    "    print(f'начали сохранение => {v}')\n",
    "    await asyncio.sleep(1)\n",
    "    print(f'закончили запись в БД => {v}')\n",
    "\n",
    "\n",
    "async def main():\n",
    "    urls = [1, 2, 3, 4, 5]\n",
    "    async for value in OneAtATime(urls):\n",
    "        await save_text_in_db(value)\n",
    "\n",
    "\n",
    "class OneAtATime:\n",
    "    def __init__(self, urls):\n",
    "        self.urls = urls\n",
    "\n",
    "    def __aiter__(self):\n",
    "        self.urls = iter(self.urls)\n",
    "        return self\n",
    "\n",
    "    async def __anext__(self):\n",
    "        try:\n",
    "            i = next(self.urls)\n",
    "        except StopIteration:\n",
    "            raise StopAsyncIteration\n",
    "\n",
    "        print(f'make request in DB => {i}')\n",
    "        await asyncio.sleep(i)\n",
    "        return i\n",
    "\n",
    "\n",
    "asyncio.run(main())"
   ],
   "metadata": {
    "collapsed": false,
    "pycharm": {
     "name": "#%%\n"
    }
   }
  },
  {
   "cell_type": "code",
   "execution_count": null,
   "outputs": [],
   "source": [
    "\"\"\"\n",
    "Async generator\n",
    "\"\"\"\n",
    "async def main2():\n",
    "    urls = [1, 2, 3, 4, 5]\n",
    "    async for value in generator(urls):\n",
    "        await save_text_in_db(value)\n",
    "\n",
    "\n",
    "async def generator(urls):\n",
    "    for i in urls:\n",
    "        print(f'сделали запрос в бд {i}')\n",
    "        await asyncio.sleep(i)\n",
    "        yield i\n",
    "\n",
    "\n",
    "asyncio.run(main2())"
   ],
   "metadata": {
    "collapsed": false,
    "pycharm": {
     "name": "#%%\n"
    }
   }
  },
  {
   "cell_type": "code",
   "execution_count": null,
   "outputs": [],
   "source": [
    "\"\"\"\n",
    "Comprehension\n",
    "\"\"\"\n",
    "async def main_comprehension():\n",
    "    results = [await f(x) async for f, x in factory(3)]\n",
    "    print('results = ', results)\n"
   ],
   "metadata": {
    "collapsed": false,
    "pycharm": {
     "name": "#%%\n"
    }
   }
  },
  {
   "cell_type": "code",
   "execution_count": 3,
   "outputs": [
    {
     "name": "stdout",
     "output_type": "stream",
     "text": [
      "2020-10-20 16:22:53.879176\n"
     ]
    },
    {
     "ename": "RuntimeError",
     "evalue": "asyncio.run() cannot be called from a running event loop",
     "output_type": "error",
     "traceback": [
      "\u001B[0;31m---------------------------------------------------------------------------\u001B[0m",
      "\u001B[0;31mRuntimeError\u001B[0m                              Traceback (most recent call last)",
      "\u001B[0;32m<ipython-input-3-fc848cdd0dcf>\u001B[0m in \u001B[0;36m<module>\u001B[0;34m\u001B[0m\n\u001B[1;32m     24\u001B[0m \u001B[0mstart\u001B[0m \u001B[0;34m=\u001B[0m \u001B[0mdatetime\u001B[0m\u001B[0;34m.\u001B[0m\u001B[0mnow\u001B[0m\u001B[0;34m(\u001B[0m\u001B[0;34m)\u001B[0m\u001B[0;34m\u001B[0m\u001B[0;34m\u001B[0m\u001B[0m\n\u001B[1;32m     25\u001B[0m \u001B[0mprint\u001B[0m\u001B[0;34m(\u001B[0m\u001B[0mstart\u001B[0m\u001B[0;34m)\u001B[0m\u001B[0;34m\u001B[0m\u001B[0;34m\u001B[0m\u001B[0m\n\u001B[0;32m---> 26\u001B[0;31m \u001B[0masyncio\u001B[0m\u001B[0;34m.\u001B[0m\u001B[0mrun\u001B[0m\u001B[0;34m(\u001B[0m\u001B[0mmain3\u001B[0m\u001B[0;34m(\u001B[0m\u001B[0;34m)\u001B[0m\u001B[0;34m)\u001B[0m\u001B[0;34m\u001B[0m\u001B[0;34m\u001B[0m\u001B[0m\n\u001B[0m\u001B[1;32m     27\u001B[0m \u001B[0mfinish\u001B[0m \u001B[0;34m=\u001B[0m \u001B[0mdatetime\u001B[0m\u001B[0;34m.\u001B[0m\u001B[0mnow\u001B[0m\u001B[0;34m(\u001B[0m\u001B[0;34m)\u001B[0m\u001B[0;34m\u001B[0m\u001B[0;34m\u001B[0m\u001B[0m\n\u001B[1;32m     28\u001B[0m \u001B[0mprint\u001B[0m\u001B[0;34m(\u001B[0m\u001B[0mfinish\u001B[0m\u001B[0;34m)\u001B[0m\u001B[0;34m\u001B[0m\u001B[0;34m\u001B[0m\u001B[0m\n",
      "\u001B[0;32m/usr/lib64/python3.8/asyncio/runners.py\u001B[0m in \u001B[0;36mrun\u001B[0;34m(main, debug)\u001B[0m\n\u001B[1;32m     31\u001B[0m     \"\"\"\n\u001B[1;32m     32\u001B[0m     \u001B[0;32mif\u001B[0m \u001B[0mevents\u001B[0m\u001B[0;34m.\u001B[0m\u001B[0m_get_running_loop\u001B[0m\u001B[0;34m(\u001B[0m\u001B[0;34m)\u001B[0m \u001B[0;32mis\u001B[0m \u001B[0;32mnot\u001B[0m \u001B[0;32mNone\u001B[0m\u001B[0;34m:\u001B[0m\u001B[0;34m\u001B[0m\u001B[0;34m\u001B[0m\u001B[0m\n\u001B[0;32m---> 33\u001B[0;31m         raise RuntimeError(\n\u001B[0m\u001B[1;32m     34\u001B[0m             \"asyncio.run() cannot be called from a running event loop\")\n\u001B[1;32m     35\u001B[0m \u001B[0;34m\u001B[0m\u001B[0m\n",
      "\u001B[0;31mRuntimeError\u001B[0m: asyncio.run() cannot be called from a running event loop"
     ]
    }
   ],
   "source": [
    "\"\"\"\n",
    "И всё таки сделаем одновременные запросы\n",
    "\"\"\"\n",
    "from datetime import datetime\n",
    "import asyncio\n",
    "\n",
    "\n",
    "async def save_text_in_db(v):\n",
    "    print(f'начали сохранение => {v}')\n",
    "    await asyncio.sleep(1)\n",
    "    print(f'закончили запись в БД => {v}')\n",
    "\n",
    "\n",
    "async def main3():\n",
    "    urls = [1, 2, 3, 4, 5]\n",
    "    coros = [get_from_db(i) for i in urls]\n",
    "    result = await asyncio.gather(*coros)\n",
    "    print(result)\n",
    "    return result\n",
    "\n",
    "\n",
    "async def get_from_db(i):\n",
    "    print(f'Делаем долгий запрос => {i}')\n",
    "    await asyncio.sleep(i)\n",
    "    print(f'Закончили запрос => {i}')\n",
    "    await save_text_in_db(i)\n",
    "    print(f'done => {i}')\n",
    "    return f'done => {i}'\n",
    "\n",
    "\n",
    "start = datetime.now()\n",
    "print(start)\n",
    "asyncio.run(main3())\n",
    "finish = datetime.now()\n",
    "print(finish)\n",
    "print(f'time => {finish - start}')"
   ],
   "metadata": {
    "collapsed": false,
    "pycharm": {
     "name": "#%%\n"
    }
   }
  },
  {
   "cell_type": "code",
   "execution_count": null,
   "outputs": [],
   "source": [
    "\"\"\"\n",
    "Как завершить все таки в случае краша сервера\n",
    "import asyncio\n",
    "\"\"\"\n",
    "async def main():\n",
    "    while True:\n",
    "        print('<Your app is running>')\n",
    "        await asyncio.sleep(1)\n",
    "\n",
    "if __name__ == '__main__':\n",
    "    loop = asyncio.get_event_loop()\n",
    "    task = loop.create_task(main())\n",
    "    try:\n",
    "        loop.run_until_complete(task)\n",
    "    except KeyboardInterrupt:\n",
    "        print('Got signal: SIGINT, shutting down.')\n",
    "\n",
    "    tasks = asyncio.all_tasks(loop=loop)\n",
    "    for t in tasks:\n",
    "        t.cancel()\n",
    "\n",
    "    group = asyncio.gather(*tasks, return_exceptions=True)\n",
    "    loop.run_until_complete(group)\n",
    "    loop.close()\n"
   ],
   "metadata": {
    "collapsed": false,
    "pycharm": {
     "name": "#%%\n"
    }
   }
  }
 ],
 "metadata": {
  "kernelspec": {
   "display_name": "Python 3",
   "language": "python",
   "name": "python3"
  },
  "language_info": {
   "codemirror_mode": {
    "name": "ipython",
    "version": 2
   },
   "file_extension": ".py",
   "mimetype": "text/x-python",
   "name": "python",
   "nbconvert_exporter": "python",
   "pygments_lexer": "ipython2",
   "version": "2.7.6"
  }
 },
 "nbformat": 4,
 "nbformat_minor": 0
}